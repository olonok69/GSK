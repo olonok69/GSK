{
 "cells": [
  {
   "cell_type": "code",
   "execution_count": 55,
   "metadata": {
    "collapsed": true
   },
   "outputs": [],
   "source": [
    "from pyspark.sql import SparkSession\n",
    "from pyspark.sql import functions as sf\n",
    "from pyspark.ml.classification import  LogisticRegression, NaiveBayes\n",
    "from pyspark.ml.classification import LogisticRegressionModel, NaiveBayesModel\n",
    "from pyspark.ml.evaluation import MulticlassClassificationEvaluator\n",
    "from pyspark.ml.feature import HashingTF, IDF, StopWordsRemover,RegexTokenizer\n",
    "from pyspark.ml import Pipeline\n",
    "from pyspark.ml.feature import StringIndexer, OneHotEncoder, VectorAssembler, IndexToString\n",
    "import shutil\n",
    "import os"
   ]
  },
  {
   "cell_type": "code",
   "execution_count": 56,
   "metadata": {
    "collapsed": true
   },
   "outputs": [],
   "source": [
    "#spark.stop()"
   ]
  },
  {
   "cell_type": "code",
   "execution_count": 57,
   "metadata": {
    "collapsed": true
   },
   "outputs": [],
   "source": [
    "#open Spark Session\n",
    "spark = SparkSession.builder.appName('GSK').getOrCreate()"
   ]
  },
  {
   "cell_type": "code",
   "execution_count": 58,
   "metadata": {
    "collapsed": true
   },
   "outputs": [],
   "source": [
    "#read source I remove last 10 entries for predictions \n",
    "data=spark.read.csv(\"Dataset_N.csv\", inferSchema=True,sep=';',header=True)"
   ]
  },
  {
   "cell_type": "markdown",
   "metadata": {},
   "source": [
    "### DATA EXPLORATION"
   ]
  },
  {
   "cell_type": "code",
   "execution_count": 59,
   "metadata": {},
   "outputs": [
    {
     "data": {
      "text/plain": [
       "DataFrame[V1: int, V2: string, V3: string, V4: string, V5: string]"
      ]
     },
     "execution_count": 59,
     "metadata": {},
     "output_type": "execute_result"
    }
   ],
   "source": [
    "data"
   ]
  },
  {
   "cell_type": "code",
   "execution_count": 60,
   "metadata": {},
   "outputs": [
    {
     "name": "stdout",
     "output_type": "stream",
     "text": [
      "+--------+---------------+--------------------+--------------------+-----+\n",
      "|      V1|             V2|                  V3|                  V4|   V5|\n",
      "+--------+---------------+--------------------+--------------------+-----+\n",
      "|26229701|WASHINGMACHINES|           WAQ284E25|      WASCHMASCHINEN|BOSCH|\n",
      "|16576864|     USB MEMORY|LEEF IBRIDGE MOBI...|PC__1100COMPUTING...| LEEF|\n",
      "|26155618|     USB MEMORY|SANDISK 32GB ULTR...|               W1370| null|\n",
      "+--------+---------------+--------------------+--------------------+-----+\n",
      "only showing top 3 rows\n",
      "\n"
     ]
    }
   ],
   "source": [
    "data.show(3)"
   ]
  },
  {
   "cell_type": "code",
   "execution_count": 61,
   "metadata": {},
   "outputs": [
    {
     "name": "stdout",
     "output_type": "stream",
     "text": [
      "root\n",
      " |-- V1: integer (nullable = true)\n",
      " |-- V2: string (nullable = true)\n",
      " |-- V3: string (nullable = true)\n",
      " |-- V4: string (nullable = true)\n",
      " |-- V5: string (nullable = true)\n",
      "\n"
     ]
    }
   ],
   "source": [
    "data.printSchema()"
   ]
  },
  {
   "cell_type": "markdown",
   "metadata": {},
   "source": [
    "### DATA PREPARATION"
   ]
  },
  {
   "cell_type": "code",
   "execution_count": 62,
   "metadata": {
    "collapsed": true
   },
   "outputs": [],
   "source": [
    "data=data.withColumnRenamed(\"V1\",\"ID\").withColumnRenamed(\"V2\",\"product_group\").withColumnRenamed(\"V3\",\"main_text\")\\\n",
    "    .withColumnRenamed(\"V4\",\"add_text\").withColumnRenamed(\"V5\",\"manufacturer\")"
   ]
  },
  {
   "cell_type": "code",
   "execution_count": 63,
   "metadata": {
    "collapsed": true
   },
   "outputs": [],
   "source": [
    "data=data.select('product_group','main_text','add_text','manufacturer') # ID doesnt add any value"
   ]
  },
  {
   "cell_type": "code",
   "execution_count": 64,
   "metadata": {},
   "outputs": [
    {
     "name": "stdout",
     "output_type": "stream",
     "text": [
      "root\n",
      " |-- product_group: string (nullable = true)\n",
      " |-- main_text: string (nullable = true)\n",
      " |-- add_text: string (nullable = true)\n",
      " |-- manufacturer: string (nullable = true)\n",
      "\n"
     ]
    }
   ],
   "source": [
    "data.printSchema()"
   ]
  },
  {
   "cell_type": "code",
   "execution_count": 65,
   "metadata": {},
   "outputs": [
    {
     "data": {
      "text/plain": [
       "1343"
      ]
     },
     "execution_count": 65,
     "metadata": {},
     "output_type": "execute_result"
    }
   ],
   "source": [
    "# Count nulls\n",
    "data.filter(data.manufacturer.isNull()).count()"
   ]
  },
  {
   "cell_type": "code",
   "execution_count": 66,
   "metadata": {},
   "outputs": [
    {
     "data": {
      "text/plain": [
       "2"
      ]
     },
     "execution_count": 66,
     "metadata": {},
     "output_type": "execute_result"
    }
   ],
   "source": [
    "data.filter(data.main_text.isNull()).count()"
   ]
  },
  {
   "cell_type": "code",
   "execution_count": 67,
   "metadata": {
    "collapsed": true
   },
   "outputs": [],
   "source": [
    "# remove NULL because cause a lot of issues\n",
    "data=data.fillna({'manufacturer':\"NO_Manufacturer\"})\n",
    "data=data.fillna({'main_text':\"NO_TEXT\"})"
   ]
  },
  {
   "cell_type": "markdown",
   "metadata": {},
   "source": [
    "### DATA TRANSFORMATION TO FEED ESTIMATORS"
   ]
  },
  {
   "cell_type": "code",
   "execution_count": 68,
   "metadata": {
    "collapsed": true
   },
   "outputs": [],
   "source": [
    "# regular expression tokenizer\n",
    "regexTokenizer = RegexTokenizer(inputCol=\"main_text\", outputCol=\"main_text_t\")\n",
    "stopwordsRemover = StopWordsRemover(inputCol=\"main_text_t\", outputCol=\"main_text_f\")\n",
    "hashingTF = HashingTF(inputCol=\"main_text_f\", outputCol=\"rawFeatures1\")\n",
    "idf = IDF(inputCol=\"rawFeatures1\", outputCol=\"tf_idf\")\n",
    "# regular expression tokenizer\n",
    "regexTokenizer2 = RegexTokenizer(inputCol=\"add_text\", outputCol=\"add_text_t\")\n",
    "stopwordsRemover2 = StopWordsRemover(inputCol=\"add_text_t\", outputCol=\"add_text_f\")\n",
    "hashingTF2 = HashingTF(inputCol=\"add_text_f\", outputCol=\"rawFeatures2\")\n",
    "idf2 = IDF(inputCol=\"rawFeatures2\", outputCol=\"tf_idf2\")"
   ]
  },
  {
   "cell_type": "code",
   "execution_count": 69,
   "metadata": {
    "collapsed": true
   },
   "outputs": [],
   "source": [
    "#convert manufacturers to categories \n",
    "manufacturer_Y = StringIndexer(inputCol = \"manufacturer\", outputCol = \"manufacturer_C\")"
   ]
  },
  {
   "cell_type": "code",
   "execution_count": 70,
   "metadata": {
    "collapsed": true
   },
   "outputs": [],
   "source": [
    "# tranfor categories to vectors, to made it easy for estimators\n",
    "encoders2 = OneHotEncoder(inputCol=manufacturer_Y.getOutputCol(), outputCol=\"manufacture_1H\") "
   ]
  },
  {
   "cell_type": "code",
   "execution_count": 71,
   "metadata": {
    "collapsed": true
   },
   "outputs": [],
   "source": [
    "#define pipeline for features\n",
    "data_prep_pipe = Pipeline(stages=[regexTokenizer,stopwordsRemover,hashingTF,idf,\\\n",
    "                                  regexTokenizer2,stopwordsRemover2,hashingTF2,idf2,manufacturer_Y,encoders2])"
   ]
  },
  {
   "cell_type": "code",
   "execution_count": 72,
   "metadata": {
    "collapsed": true
   },
   "outputs": [],
   "source": [
    "data_transformer = data_prep_pipe.fit(data)"
   ]
  },
  {
   "cell_type": "code",
   "execution_count": 73,
   "metadata": {
    "collapsed": true
   },
   "outputs": [],
   "source": [
    "data = data_transformer.transform(data)"
   ]
  },
  {
   "cell_type": "code",
   "execution_count": 74,
   "metadata": {},
   "outputs": [
    {
     "name": "stdout",
     "output_type": "stream",
     "text": [
      "+---------------+--------------------+--------------------+---------------+--------------------+--------------------+--------------------+--------------------+--------------------+--------------------+--------------------+--------------------+--------------+----------------+\n",
      "|  product_group|           main_text|            add_text|   manufacturer|         main_text_t|         main_text_f|        rawFeatures1|              tf_idf|          add_text_t|          add_text_f|        rawFeatures2|             tf_idf2|manufacturer_C|  manufacture_1H|\n",
      "+---------------+--------------------+--------------------+---------------+--------------------+--------------------+--------------------+--------------------+--------------------+--------------------+--------------------+--------------------+--------------+----------------+\n",
      "|WASHINGMACHINES|           WAQ284E25|      WASCHMASCHINEN|          BOSCH|         [waq284e25]|         [waq284e25]|(262144,[4112],[1...|(262144,[4112],[8...|    [waschmaschinen]|    [waschmaschinen]|(262144,[120109],...|(262144,[120109],...|           8.0| (623,[8],[1.0])|\n",
      "|     USB MEMORY|LEEF IBRIDGE MOBI...|PC__1100COMPUTING...|           LEEF|[leef, ibridge, m...|[leef, ibridge, m...|(262144,[22790,45...|(262144,[22790,45...|[pc__1100computin...|[pc__1100computin...|(262144,[86422],[...|(262144,[86422],[...|          64.0|(623,[64],[1.0])|\n",
      "|     USB MEMORY|SANDISK 32GB ULTR...|               W1370|NO_Manufacturer|[sandisk, 32gb, u...|[sandisk, 32gb, u...|(262144,[45908,12...|(262144,[45908,12...|             [w1370]|             [w1370]|(262144,[258930],...|(262144,[258930],...|           0.0| (623,[0],[1.0])|\n",
      "+---------------+--------------------+--------------------+---------------+--------------------+--------------------+--------------------+--------------------+--------------------+--------------------+--------------------+--------------------+--------------+----------------+\n",
      "only showing top 3 rows\n",
      "\n"
     ]
    }
   ],
   "source": [
    "data.show(3)"
   ]
  },
  {
   "cell_type": "code",
   "execution_count": 75,
   "metadata": {
    "collapsed": true
   },
   "outputs": [],
   "source": [
    "#only select relevant columns\n",
    "data=data.select(\"main_text\",\"add_text\",\"product_group\",\"rawFeatures1\",\"rawFeatures2\",\"manufacture_1H\")"
   ]
  },
  {
   "cell_type": "code",
   "execution_count": 76,
   "metadata": {
    "collapsed": true
   },
   "outputs": [],
   "source": [
    "# product categories to number\n",
    "product_group_Y = StringIndexer(inputCol = \"product_group\", outputCol = \"label\")"
   ]
  },
  {
   "cell_type": "code",
   "execution_count": 77,
   "metadata": {
    "collapsed": true
   },
   "outputs": [],
   "source": [
    "data=product_group_Y.fit(data).transform(data)\n"
   ]
  },
  {
   "cell_type": "code",
   "execution_count": 78,
   "metadata": {
    "collapsed": true
   },
   "outputs": [],
   "source": [
    "#create groupby to reverse categories later\n",
    "datagroup=data.groupby('product_group').avg('label')"
   ]
  },
  {
   "cell_type": "code",
   "execution_count": 79,
   "metadata": {
    "collapsed": true
   },
   "outputs": [],
   "source": [
    "datagroup=datagroup.withColumnRenamed(\"avg(label)\", \"label\")"
   ]
  },
  {
   "cell_type": "code",
   "execution_count": 80,
   "metadata": {},
   "outputs": [
    {
     "name": "stdout",
     "output_type": "stream",
     "text": [
      "+---------------+-----+\n",
      "|  product_group|label|\n",
      "+---------------+-----+\n",
      "|     USB MEMORY|  0.0|\n",
      "|       BICYCLES|  2.0|\n",
      "| CONTACT LENSES|  3.0|\n",
      "|WASHINGMACHINES|  1.0|\n",
      "+---------------+-----+\n",
      "\n"
     ]
    }
   ],
   "source": [
    "datagroup.show()"
   ]
  },
  {
   "cell_type": "code",
   "execution_count": 81,
   "metadata": {
    "collapsed": true
   },
   "outputs": [],
   "source": [
    "#create temporal view to access during session\n",
    "datagroup.createOrReplaceGlobalTempView('Category_label')"
   ]
  },
  {
   "cell_type": "code",
   "execution_count": 82,
   "metadata": {
    "collapsed": true
   },
   "outputs": [],
   "source": [
    "#produce feature vector\n",
    "clean_up = VectorAssembler(inputCols=['rawFeatures1','rawFeatures2','manufacture_1H'],outputCol='features')"
   ]
  },
  {
   "cell_type": "code",
   "execution_count": 83,
   "metadata": {
    "collapsed": true
   },
   "outputs": [],
   "source": [
    "dataout=clean_up.transform(data)"
   ]
  },
  {
   "cell_type": "code",
   "execution_count": 84,
   "metadata": {},
   "outputs": [
    {
     "name": "stdout",
     "output_type": "stream",
     "text": [
      "+---------+--------------+---------------+--------------------+--------------------+---------------+-----+--------------------+\n",
      "|main_text|      add_text|  product_group|        rawFeatures1|        rawFeatures2| manufacture_1H|label|            features|\n",
      "+---------+--------------+---------------+--------------------+--------------------+---------------+-----+--------------------+\n",
      "|WAQ284E25|WASCHMASCHINEN|WASHINGMACHINES|(262144,[4112],[1...|(262144,[120109],...|(623,[8],[1.0])|  1.0|(524911,[4112,382...|\n",
      "+---------+--------------+---------------+--------------------+--------------------+---------------+-----+--------------------+\n",
      "only showing top 1 row\n",
      "\n"
     ]
    }
   ],
   "source": [
    "dataout.show(1)"
   ]
  },
  {
   "cell_type": "code",
   "execution_count": 85,
   "metadata": {
    "collapsed": true
   },
   "outputs": [],
   "source": [
    "#select relevant columns\n",
    "datax=dataout.select(\"main_text\",\"add_text\",\"product_group\",\"features\",'label')"
   ]
  },
  {
   "cell_type": "code",
   "execution_count": 86,
   "metadata": {},
   "outputs": [
    {
     "name": "stdout",
     "output_type": "stream",
     "text": [
      "+--------------------+--------------------+---------------+--------------------+-----+\n",
      "|           main_text|            add_text|  product_group|            features|label|\n",
      "+--------------------+--------------------+---------------+--------------------+-----+\n",
      "|           WAQ284E25|      WASCHMASCHINEN|WASHINGMACHINES|(524911,[4112,382...|  1.0|\n",
      "|LEEF IBRIDGE MOBI...|PC__1100COMPUTING...|     USB MEMORY|(524911,[22790,45...|  0.0|\n",
      "|SANDISK 32GB ULTR...|               W1370|     USB MEMORY|(524911,[45908,12...|  0.0|\n",
      "+--------------------+--------------------+---------------+--------------------+-----+\n",
      "only showing top 3 rows\n",
      "\n"
     ]
    }
   ],
   "source": [
    "#FINAL DATAFRAME TO TRAIN MODELS\n",
    "datax.show(3)"
   ]
  },
  {
   "cell_type": "markdown",
   "metadata": {},
   "source": [
    "### SPLITING FOR TRAINING AND TESTING"
   ]
  },
  {
   "cell_type": "code",
   "execution_count": 87,
   "metadata": {},
   "outputs": [
    {
     "name": "stdout",
     "output_type": "stream",
     "text": [
      "Training Dataset Count: 5654\n",
      "Test Dataset Count: 2335\n"
     ]
    }
   ],
   "source": [
    "# set seed for reproducibility and split data for training and evaluating\n",
    "(trainingData, testData) = datax.randomSplit([0.7, 0.3], seed = 100)\n",
    "print(\"Training Dataset Count: \" + str(trainingData.count()))\n",
    "print(\"Test Dataset Count: \" + str(testData.count()))"
   ]
  },
  {
   "cell_type": "markdown",
   "metadata": {},
   "source": [
    "### LOGISTIC REGRESSION"
   ]
  },
  {
   "cell_type": "code",
   "execution_count": 88,
   "metadata": {},
   "outputs": [
    {
     "name": "stdout",
     "output_type": "stream",
     "text": [
      "+------------------------------+------------------------------+-------------+------------------------------+-----+----------+\n",
      "|                     main_text|                      add_text|product_group|                   probability|label|prediction|\n",
      "+------------------------------+------------------------------+-------------+------------------------------+-----+----------+\n",
      "|USB3.0-STICK 32GB INTENSO S...|                    USB-STICKS|   USB MEMORY|[0.998670474339512,2.509527...|  0.0|       0.0|\n",
      "|7244919 - 7244919 - USB3 FL...|CATEGORY 5__PC PERIPHERALS_...|   USB MEMORY|[0.9967433922962178,0.00110...|  0.0|       0.0|\n",
      "|USB2.0-STICK 16GB DATATRAVE...|                    USB-STICKS|   USB MEMORY|[0.9951644212654676,0.00145...|  0.0|       0.0|\n",
      "|USB2.0 STICK, 8GB USB-SPEIC...|061005__COMPUTER-/INFORMATI...|   USB MEMORY|[0.9916429671615415,0.00442...|  0.0|       0.0|\n",
      "|USB STICK JETFLASH 880 OTG ...|   STORAGE/MEDIA/USBKEY/USBKEY|   USB MEMORY|[0.9905120334855472,0.00345...|  0.0|       0.0|\n",
      "|16GB USB 2.0 DATATRAVELER S...|STORAGE __ FLASH MEMORY DEV...|   USB MEMORY|[0.9882848961078935,0.00408...|  0.0|       0.0|\n",
      "|USB-STICK 16GB BLAU STORE N...|SPEICHERMEDIEN UND COMPUTER...|   USB MEMORY|[0.9882436741690571,0.00435...|  0.0|       0.0|\n",
      "|USB DRIVE 2.0 ALU 64GB SILB...|ELECTRONIC OFFICE SUPPLIES ...|   USB MEMORY|[0.9878242297382787,0.00332...|  0.0|       0.0|\n",
      "|USB DRIVE 2.0 PIN STRIPE 16...|HARD-/SOFTWARE - ARTGR HARD...|   USB MEMORY|[0.9858271716328993,0.00469...|  0.0|       0.0|\n",
      "|PENDRIVE 32GB USB 2.0 NEGRO...|         MEMORIAS USB __ 32 GB|   USB MEMORY|[0.9802704940139586,0.00684...|  0.0|       0.0|\n",
      "+------------------------------+------------------------------+-------------+------------------------------+-----+----------+\n",
      "only showing top 10 rows\n",
      "\n"
     ]
    }
   ],
   "source": [
    "#Logistic Regression training and prediction\n",
    "lr = LogisticRegression(maxIter=20, regParam=0.3, elasticNetParam=0)\n",
    "lrModel = lr.fit(trainingData)\n",
    "predictions = lrModel.transform(testData)\n",
    "predictions.select(\"main_text\",\"add_text\",\"product_group\",\"probability\",\"label\",\"prediction\") \\\n",
    "    .orderBy(\"probability\", ascending=False) \\\n",
    "    .show(n = 10, truncate = 30)"
   ]
  },
  {
   "cell_type": "code",
   "execution_count": 89,
   "metadata": {
    "collapsed": true
   },
   "outputs": [],
   "source": [
    "#delete previous model serialized if exists\n",
    "dirpath = os.path.join(\"lg_mode_path\")\n",
    "if os.path.exists(dirpath) and os.path.isdir(dirpath):\n",
    "    shutil.rmtree(dirpath)"
   ]
  },
  {
   "cell_type": "code",
   "execution_count": 90,
   "metadata": {
    "collapsed": true
   },
   "outputs": [],
   "source": [
    "#save model to disk\n",
    "lrModel.save(\"lg_mode_path\")"
   ]
  },
  {
   "cell_type": "code",
   "execution_count": 91,
   "metadata": {
    "collapsed": true
   },
   "outputs": [],
   "source": [
    "#load the model from disk\n",
    "evaluatorlg = LogisticRegressionModel.load(\"lg_mode_path\")"
   ]
  },
  {
   "cell_type": "code",
   "execution_count": 92,
   "metadata": {
    "collapsed": true
   },
   "outputs": [],
   "source": [
    "#get metrics of evaluation\n",
    "evaluatorlg = MulticlassClassificationEvaluator(predictionCol=\"prediction\", metricName=\"accuracy\")\n",
    "metrics=evaluatorlg.evaluate(predictions)"
   ]
  },
  {
   "cell_type": "code",
   "execution_count": 93,
   "metadata": {},
   "outputs": [
    {
     "name": "stdout",
     "output_type": "stream",
     "text": [
      "Accuraccy: 0.9974304068522484\n"
     ]
    }
   ],
   "source": [
    "print(\"Accuraccy: {}\".format(metrics))"
   ]
  },
  {
   "cell_type": "code",
   "execution_count": 94,
   "metadata": {
    "collapsed": true
   },
   "outputs": [],
   "source": [
    "#read completelly new data\n",
    "Newdata=spark.read.csv(\"New_Data.csv\", inferSchema=True,sep=';') # Now no Headers be careful"
   ]
  },
  {
   "cell_type": "code",
   "execution_count": 95,
   "metadata": {},
   "outputs": [
    {
     "name": "stdout",
     "output_type": "stream",
     "text": [
      "+--------+--------------+--------------------+--------------------+----+\n",
      "|     _c0|           _c1|                 _c2|                 _c3| _c4|\n",
      "+--------+--------------+--------------------+--------------------+----+\n",
      "|62217839|CONTACT LENSES|ACUVUE OASYS FOR ...|              LINSEN| J&J|\n",
      "|62224046|CONTACT LENSES|SOFLENS TORIC6 ST...|              LINSEN| B&L|\n",
      "|67407315|      BICYCLES|227445  CITYRAD D...|112100__FASHION &...|null|\n",
      "+--------+--------------+--------------------+--------------------+----+\n",
      "only showing top 3 rows\n",
      "\n"
     ]
    }
   ],
   "source": [
    "Newdata.show(3)"
   ]
  },
  {
   "cell_type": "code",
   "execution_count": 96,
   "metadata": {
    "collapsed": true
   },
   "outputs": [],
   "source": [
    "Newdata=Newdata.withColumnRenamed(\"_c0\",\"ID\").withColumnRenamed(\"_c1\",\"product_group\").withColumnRenamed(\"_c2\",\"main_text\")\\\n",
    "    .withColumnRenamed(\"_c3\",\"add_text\").withColumnRenamed(\"_c4\",\"manufacturer\")"
   ]
  },
  {
   "cell_type": "code",
   "execution_count": 97,
   "metadata": {
    "collapsed": true
   },
   "outputs": [],
   "source": [
    "Newdata=Newdata.select('product_group','main_text','add_text','manufacturer') # ID doesnt add any value"
   ]
  },
  {
   "cell_type": "code",
   "execution_count": 98,
   "metadata": {
    "collapsed": true
   },
   "outputs": [],
   "source": [
    "# remove NULL because cause a lot of issues\n",
    "Newdata=Newdata.fillna({'manufacturer':\"NO_Manufacturer\"})\n",
    "Newdata=Newdata.fillna({'main_text':\"NO_TEXT\"})"
   ]
  },
  {
   "cell_type": "code",
   "execution_count": 99,
   "metadata": {
    "collapsed": true
   },
   "outputs": [],
   "source": [
    "#transform the imput data with same pipeline to feed the estimator for predictions\n",
    "data_transformer2 = data_prep_pipe.fit(Newdata)"
   ]
  },
  {
   "cell_type": "code",
   "execution_count": 100,
   "metadata": {
    "collapsed": true
   },
   "outputs": [],
   "source": [
    "data_new = data_transformer.transform(Newdata)"
   ]
  },
  {
   "cell_type": "code",
   "execution_count": 101,
   "metadata": {},
   "outputs": [
    {
     "name": "stdout",
     "output_type": "stream",
     "text": [
      "root\n",
      " |-- product_group: string (nullable = true)\n",
      " |-- main_text: string (nullable = false)\n",
      " |-- add_text: string (nullable = true)\n",
      " |-- manufacturer: string (nullable = false)\n",
      " |-- main_text_t: array (nullable = true)\n",
      " |    |-- element: string (containsNull = true)\n",
      " |-- main_text_f: array (nullable = true)\n",
      " |    |-- element: string (containsNull = true)\n",
      " |-- rawFeatures1: vector (nullable = true)\n",
      " |-- tf_idf: vector (nullable = true)\n",
      " |-- add_text_t: array (nullable = true)\n",
      " |    |-- element: string (containsNull = true)\n",
      " |-- add_text_f: array (nullable = true)\n",
      " |    |-- element: string (containsNull = true)\n",
      " |-- rawFeatures2: vector (nullable = true)\n",
      " |-- tf_idf2: vector (nullable = true)\n",
      " |-- manufacturer_C: double (nullable = false)\n",
      " |-- manufacture_1H: vector (nullable = true)\n",
      "\n"
     ]
    }
   ],
   "source": [
    "data_new.printSchema()"
   ]
  },
  {
   "cell_type": "code",
   "execution_count": 102,
   "metadata": {
    "collapsed": true
   },
   "outputs": [],
   "source": [
    "# CREATE FEATURE VECTORS\n",
    "dataout_new=clean_up.transform(data_new)"
   ]
  },
  {
   "cell_type": "code",
   "execution_count": 103,
   "metadata": {},
   "outputs": [
    {
     "name": "stdout",
     "output_type": "stream",
     "text": [
      "root\n",
      " |-- product_group: string (nullable = true)\n",
      " |-- main_text: string (nullable = false)\n",
      " |-- add_text: string (nullable = true)\n",
      " |-- manufacturer: string (nullable = false)\n",
      " |-- main_text_t: array (nullable = true)\n",
      " |    |-- element: string (containsNull = true)\n",
      " |-- main_text_f: array (nullable = true)\n",
      " |    |-- element: string (containsNull = true)\n",
      " |-- rawFeatures1: vector (nullable = true)\n",
      " |-- tf_idf: vector (nullable = true)\n",
      " |-- add_text_t: array (nullable = true)\n",
      " |    |-- element: string (containsNull = true)\n",
      " |-- add_text_f: array (nullable = true)\n",
      " |    |-- element: string (containsNull = true)\n",
      " |-- rawFeatures2: vector (nullable = true)\n",
      " |-- tf_idf2: vector (nullable = true)\n",
      " |-- manufacturer_C: double (nullable = false)\n",
      " |-- manufacture_1H: vector (nullable = true)\n",
      " |-- features: vector (nullable = true)\n",
      "\n"
     ]
    }
   ],
   "source": [
    "dataout_new.printSchema()"
   ]
  },
  {
   "cell_type": "code",
   "execution_count": 104,
   "metadata": {
    "collapsed": true
   },
   "outputs": [],
   "source": [
    "# PREDICTING MULTICLASS\n",
    "prediction2=lrModel.transform(dataout_new)"
   ]
  },
  {
   "cell_type": "code",
   "execution_count": 105,
   "metadata": {},
   "outputs": [
    {
     "name": "stdout",
     "output_type": "stream",
     "text": [
      "+------------------------------+------------------------------+---------------+------------------------------+----------+\n",
      "|                     main_text|                      add_text|  product_group|                   probability|prediction|\n",
      "+------------------------------+------------------------------+---------------+------------------------------+----------+\n",
      "|USB 3.0 S25 32G MORADO USB ...|         MEMORIAS USB __ 32 GB|     USB MEMORY|[0.9316143969863324,0.02388...|       0.0|\n",
      "|CREME ECHO SOLO 16-SPEED WHITE|FAHRRAEDER>>RENNRAEDER>>REN...|       BICYCLES|[0.1076267302129298,0.10542...|       2.0|\n",
      "|TOPSY KINDERRAD 12 1/2 POLA...|H006W0792344__WERKZEUG_AUTO...|       BICYCLES|[0.08226058786349069,0.1105...|       2.0|\n",
      "|LAVAMAT 63479 FL A+++ WASCH...|                WASCHMASCHINEN|WASHINGMACHINES|[0.05164731497816811,0.8367...|       1.0|\n",
      "|    SOFLENS TORIC6 STÜCKUNISEX|                        LINSEN| CONTACT LENSES|[0.0424872114889493,0.04947...|       3.0|\n",
      "|    SOFLENS TORIC6 STÜCKUNISEX|                        LINSEN| CONTACT LENSES|[0.0424872114889493,0.04947...|       3.0|\n",
      "|ACUVUE OASYS FOR ASTIGMATIS...|                        LINSEN| CONTACT LENSES|[0.036355251929029574,0.042...|       3.0|\n",
      "|ACUVUE OASYS FOR ASTIGMATIS...|                        LINSEN| CONTACT LENSES|[0.036355251929029574,0.042...|       3.0|\n",
      "|UNIVEGA TERRENO 1.0 HE MATT...|                         1_7_4|       BICYCLES|[0.0301084532333584,0.03616...|       2.0|\n",
      "|227445  CITYRAD D 26 3G CIT...|112100__FASHION & SPORT_SPO...|       BICYCLES|[0.027452775561929318,0.019...|       2.0|\n",
      "+------------------------------+------------------------------+---------------+------------------------------+----------+\n",
      "only showing top 10 rows\n",
      "\n"
     ]
    }
   ],
   "source": [
    "#LISTING PREDICTIONS\n",
    "prediction2.select(\"main_text\",\"add_text\",\"product_group\",\"probability\",\"prediction\") \\\n",
    "    .orderBy(\"probability\", ascending=False) \\\n",
    "    .show(n = 10, truncate = 30)"
   ]
  },
  {
   "cell_type": "code",
   "execution_count": 106,
   "metadata": {
    "collapsed": true
   },
   "outputs": [],
   "source": [
    "#CREATE TEMPORARY VIEW FOR USE IN MEMORY\n",
    "prediction2.createOrReplaceTempView('outcomes') # Category_label df1.join(df2, df1.id == df2.id).select('df1.*')"
   ]
  },
  {
   "cell_type": "code",
   "execution_count": 107,
   "metadata": {
    "collapsed": true
   },
   "outputs": [],
   "source": [
    "# JOIN WITH CATEGORIES DATASET\n",
    "temp1=prediction2.join(datagroup, prediction2.prediction==datagroup.label ,how='left')\\\n",
    ".select(prediction2.product_group,prediction2.probability, datagroup.product_group)"
   ]
  },
  {
   "cell_type": "code",
   "execution_count": 108,
   "metadata": {},
   "outputs": [
    {
     "name": "stdout",
     "output_type": "stream",
     "text": [
      "+---------------+-----------------------------------------------------------------------------------+---------------+\n",
      "|product_group  |probability                                                                        |product_group  |\n",
      "+---------------+-----------------------------------------------------------------------------------+---------------+\n",
      "|CONTACT LENSES |[0.036355251929029574,0.04204493244567242,0.03696971819952107,0.8846300974257769]  |CONTACT LENSES |\n",
      "|CONTACT LENSES |[0.0424872114889493,0.049477380802978706,0.04336559964885834,0.8646698080592137]   |CONTACT LENSES |\n",
      "|BICYCLES       |[0.027452775561929318,0.019966407270397828,0.9336363990752068,0.018944418092465883]|BICYCLES       |\n",
      "|CONTACT LENSES |[0.036355251929029574,0.04204493244567242,0.03696971819952107,0.8846300974257769]  |CONTACT LENSES |\n",
      "|CONTACT LENSES |[0.0424872114889493,0.049477380802978706,0.04336559964885834,0.8646698080592137]   |CONTACT LENSES |\n",
      "|USB MEMORY     |[0.9316143969863324,0.02388848587956634,0.021379886672028146,0.0231172304620731]   |USB MEMORY     |\n",
      "|BICYCLES       |[0.08226058786349069,0.11050265290325072,0.7071381787055314,0.10009858052772716]   |BICYCLES       |\n",
      "|BICYCLES       |[0.1076267302129298,0.10542476574453043,0.7034488144119186,0.083499689630621]      |BICYCLES       |\n",
      "|CONTACT LENSES |[0.015424802478897054,0.016899770282862745,0.015802244716720218,0.95187318252152]  |CONTACT LENSES |\n",
      "|BICYCLES       |[0.0301084532333584,0.03616539197813407,0.8985804243705704,0.03514573041793713]    |BICYCLES       |\n",
      "|WASHINGMACHINES|[0.05164731497816811,0.8367026374905426,0.052802913662842184,0.05884713386844709]  |WASHINGMACHINES|\n",
      "+---------------+-----------------------------------------------------------------------------------+---------------+\n",
      "\n"
     ]
    }
   ],
   "source": [
    "# SHOW PREDICITIONS 100% ACCURACY\n",
    "temp1.show(truncate=False)"
   ]
  },
  {
   "cell_type": "code",
   "execution_count": 109,
   "metadata": {
    "collapsed": true
   },
   "outputs": [],
   "source": [
    "out=temp1.collect()"
   ]
  },
  {
   "cell_type": "code",
   "execution_count": 117,
   "metadata": {},
   "outputs": [
    {
     "data": {
      "text/plain": [
       "DenseVector([0.0364, 0.042, 0.037, 0.8846])"
      ]
     },
     "execution_count": 117,
     "metadata": {},
     "output_type": "execute_result"
    }
   ],
   "source": [
    "out[0][1]"
   ]
  },
  {
   "cell_type": "code",
   "execution_count": 113,
   "metadata": {},
   "outputs": [
    {
     "data": {
      "text/plain": [
       "0.88463009742577692"
      ]
     },
     "execution_count": 113,
     "metadata": {},
     "output_type": "execute_result"
    }
   ],
   "source": [
    "max(out[0]['probability'])"
   ]
  },
  {
   "cell_type": "markdown",
   "metadata": {},
   "source": [
    "### NAIVES BAYES"
   ]
  },
  {
   "cell_type": "code",
   "execution_count": 82,
   "metadata": {},
   "outputs": [
    {
     "name": "stdout",
     "output_type": "stream",
     "text": [
      "+------------------------------+------------------------------+-------------+------------------------------+-----+----------+\n",
      "|                     main_text|                      add_text|product_group|                   probability|label|prediction|\n",
      "+------------------------------+------------------------------+-------------+------------------------------+-----+----------+\n",
      "|USB  8GB 20/35 PREMIUM LINE...|          3__COMPUTER__STORAGE|   USB MEMORY|[1.0,9.484162951836256E-17,...|  0.0|       0.0|\n",
      "|Speicher Kingston 8GB USB S...|                           354|   USB MEMORY|[1.0,8.512250015411041E-17,...|  0.0|       0.0|\n",
      "|VERBATIM 49808 128GB V3 MAX...|PC__1100COMPUTINGMEMORY__11...|   USB MEMORY|[1.0,7.853676720109339E-17,...|  0.0|       0.0|\n",
      "|*SANDISK 16GB CRUZER EDGE U...|                    USB-STICKS|   USB MEMORY|[1.0,5.1238276931385994E-17...|  0.0|       0.0|\n",
      "|           VERBATIM MINI METAL|SPEICHER __ DATENTRAEGER/PC...|   USB MEMORY|[1.0,4.8765372743696744E-17...|  0.0|       0.0|\n",
      "|SANDISK CRUZER SWITCH 8GB S...|                       SANDISK|   USB MEMORY|[1.0,4.698136271520424E-17,...|  0.0|       0.0|\n",
      "|16GB CULBUTO USB3.0 16GB/US...|MEMORY AND PROCESSORS __ US...|   USB MEMORY|[1.0,3.816885710152456E-17,...|  0.0|       0.0|\n",
      "|USB-STICK  4GB SILICON POWE...|                  USB-SPEICHER|   USB MEMORY|[1.0,3.212956731057078E-17,...|  0.0|       0.0|\n",
      "|KINGSTON DATATRAVELER 101 G...|MOBILFUNKZUBEHÖR__0230 MOBI...|   USB MEMORY|[1.0,3.2026510796700333E-17...|  0.0|       0.0|\n",
      "|SANDISK CRUZER EDGE 16 GB U...|                      28011008|   USB MEMORY|[1.0,2.4964394635687595E-17...|  0.0|       0.0|\n",
      "+------------------------------+------------------------------+-------------+------------------------------+-----+----------+\n",
      "only showing top 10 rows\n",
      "\n"
     ]
    }
   ],
   "source": [
    "nb = NaiveBayes(smoothing=1)\n",
    "model = nb.fit(trainingData)\n",
    "predictions = model.transform(testData)\n",
    "predictions.select(\"main_text\",\"add_text\",\"product_group\",\"probability\",\"label\",\"prediction\") \\\n",
    "    .orderBy(\"probability\", ascending=False) \\\n",
    "    .show(n = 10, truncate = 30)"
   ]
  },
  {
   "cell_type": "code",
   "execution_count": 83,
   "metadata": {
    "collapsed": true
   },
   "outputs": [],
   "source": [
    "#delete previous model serialized if exists\n",
    "dirpath = os.path.join(\"nb_mode_path\")\n",
    "if os.path.exists(dirpath) and os.path.isdir(dirpath):\n",
    "    shutil.rmtree(dirpath)"
   ]
  },
  {
   "cell_type": "code",
   "execution_count": 84,
   "metadata": {
    "collapsed": true
   },
   "outputs": [],
   "source": [
    "model.save(\"nb_mode_path\")"
   ]
  },
  {
   "cell_type": "code",
   "execution_count": 85,
   "metadata": {
    "collapsed": true
   },
   "outputs": [],
   "source": [
    "evaluatornb = NaiveBayesModel.load(\"nb_mode_path\")"
   ]
  },
  {
   "cell_type": "code",
   "execution_count": 88,
   "metadata": {
    "collapsed": true
   },
   "outputs": [],
   "source": [
    "evaluatornb = MulticlassClassificationEvaluator(predictionCol=\"prediction\")\n",
    "metrics=evaluatornb.evaluate(predictions)"
   ]
  },
  {
   "cell_type": "code",
   "execution_count": 89,
   "metadata": {},
   "outputs": [
    {
     "name": "stdout",
     "output_type": "stream",
     "text": [
      "F1: 0.9974307081346534\n"
     ]
    }
   ],
   "source": [
    "print(\"F1: {}\".format(metrics))"
   ]
  },
  {
   "cell_type": "code",
   "execution_count": null,
   "metadata": {
    "collapsed": true
   },
   "outputs": [],
   "source": []
  }
 ],
 "metadata": {
  "kernelspec": {
   "display_name": "Python 3",
   "language": "python",
   "name": "python3"
  },
  "language_info": {
   "codemirror_mode": {
    "name": "ipython",
    "version": 3
   },
   "file_extension": ".py",
   "mimetype": "text/x-python",
   "name": "python",
   "nbconvert_exporter": "python",
   "pygments_lexer": "ipython3",
   "version": "3.6.5"
  }
 },
 "nbformat": 4,
 "nbformat_minor": 2
}
