{
 "cells": [
  {
   "cell_type": "code",
   "execution_count": 78,
   "metadata": {
    "collapsed": true
   },
   "outputs": [],
   "source": [
    "from pyspark.sql import SparkSession\n",
    "from pyspark.sql import functions as sf\n",
    "from pyspark.ml.classification import RandomForestClassifier, LogisticRegression, NaiveBayes\n",
    "from pyspark.ml.classification import LogisticRegressionModel, NaiveBayesModel, RandomForestClassificationModel\n",
    "from pyspark.ml.evaluation import MulticlassClassificationEvaluator\n",
    "from pyspark.ml.feature import HashingTF, IDF, Tokenizer,StopWordsRemover,RegexTokenizer\n",
    "from pyspark.ml import Pipeline\n",
    "from pyspark.ml.feature import StringIndexer, OneHotEncoder, VectorAssembler"
   ]
  },
  {
   "cell_type": "code",
   "execution_count": null,
   "metadata": {
    "collapsed": true
   },
   "outputs": [],
   "source": [
    "#spark.stop()"
   ]
  },
  {
   "cell_type": "code",
   "execution_count": 15,
   "metadata": {
    "collapsed": true
   },
   "outputs": [],
   "source": [
    "spark = SparkSession.builder.appName('GSK').getOrCreate()"
   ]
  },
  {
   "cell_type": "code",
   "execution_count": 31,
   "metadata": {
    "collapsed": true
   },
   "outputs": [],
   "source": [
    "data=spark.read.csv(\"Dataset_N.csv\", inferSchema=True,sep=';',header=True)"
   ]
  },
  {
   "cell_type": "code",
   "execution_count": 32,
   "metadata": {},
   "outputs": [
    {
     "data": {
      "text/plain": [
       "DataFrame[V1: int, V2: string, V3: string, V4: string, V5: string]"
      ]
     },
     "execution_count": 32,
     "metadata": {},
     "output_type": "execute_result"
    }
   ],
   "source": [
    "data"
   ]
  },
  {
   "cell_type": "code",
   "execution_count": 33,
   "metadata": {},
   "outputs": [
    {
     "name": "stdout",
     "output_type": "stream",
     "text": [
      "+--------+---------------+--------------------+--------------------+-------------------+\n",
      "|      V1|             V2|                  V3|                  V4|                 V5|\n",
      "+--------+---------------+--------------------+--------------------+-------------------+\n",
      "|26229701|WASHINGMACHINES|           WAQ284E25|      WASCHMASCHINEN|              BOSCH|\n",
      "|16576864|     USB MEMORY|LEEF IBRIDGE MOBI...|PC__1100COMPUTING...|               LEEF|\n",
      "|26155618|     USB MEMORY|SANDISK 32GB ULTR...|               W1370|               null|\n",
      "|25646138|       BICYCLES|HOLLANDRAD DAMEN ...|FAHRRAEDER // SPO...|SCHALOW & KROH GMBH|\n",
      "|19764614|       BICYCLES|DAHON SPEED D7 SC...|SPORTS__30000WHEE...|              DAHON|\n",
      "|64836708|     USB MEMORY|PNY 16GB LEGO USB...| COMPONENT __ MEMORY|                PNY|\n",
      "|25637375|       BICYCLES|CITYBIKE COLORS 2...|FAHRRAEDER // FAH...|     TRENDMAXX GMBH|\n",
      "|49459632|       BICYCLES|126 CITY BIKE 28 ...|             1160005|               null|\n",
      "|21250597|WASHINGMACHINES|AEG WASCHMASCHINE...|                  GG|                AEG|\n",
      "|26295640|WASHINGMACHINES|WD 15 H 590 EXTRA...|       WASCHTROCKNER|            SIEMENS|\n",
      "|66928405|     USB MEMORY|615634  FLASHPEN ...|410107__HARTWAREN...|               null|\n",
      "|25830006|WASHINGMACHINES|WM 14 B 2 E1 A+++...|WASCHMASCHINE FRO...|            SIEMENS|\n",
      "|37679388|       BICYCLES|GIANT TALON 1 LTD...|FAHRRAEDER>>MOUNT...|              GIANT|\n",
      "|73954449|WASHINGMACHINES|POLAR PULSUHR V80...|SPORTS__29000MULT...|              POLAR|\n",
      "|62233672| CONTACT LENSES|ECCO CHANGE ONE D...|              LINSEN|              MPG&E|\n",
      "|48577002|     USB MEMORY|VERBATIM STORE 'N...|          USB-STICKS|           VERBATIM|\n",
      "|29197302|     USB MEMORY|USB  8GB  MINIONS...|            COMPUTER|              TRIBE|\n",
      "|62215999| CONTACT LENSES|BIOFINITY TORIC 3...|              LINSEN|             COOPER|\n",
      "|42306852|       BICYCLES|BERGAMONT ROXTAR ...|               1_1_6|          BERGAMONT|\n",
      "|69818512|       BICYCLES|PROPH.ATB-FALTR. ...|                  68|        Fashion_EAN|\n",
      "+--------+---------------+--------------------+--------------------+-------------------+\n",
      "only showing top 20 rows\n",
      "\n"
     ]
    }
   ],
   "source": [
    "data.show()"
   ]
  },
  {
   "cell_type": "code",
   "execution_count": 34,
   "metadata": {},
   "outputs": [
    {
     "name": "stdout",
     "output_type": "stream",
     "text": [
      "root\n",
      " |-- V1: integer (nullable = true)\n",
      " |-- V2: string (nullable = true)\n",
      " |-- V3: string (nullable = true)\n",
      " |-- V4: string (nullable = true)\n",
      " |-- V5: string (nullable = true)\n",
      "\n"
     ]
    }
   ],
   "source": [
    "data.printSchema()"
   ]
  },
  {
   "cell_type": "code",
   "execution_count": 35,
   "metadata": {
    "collapsed": true
   },
   "outputs": [],
   "source": [
    "data=data.withColumnRenamed(\"V1\",\"ID\").withColumnRenamed(\"V2\",\"product_group\").withColumnRenamed(\"V3\",\"main_text\")\\\n",
    "    .withColumnRenamed(\"V4\",\"add_text\").withColumnRenamed(\"V5\",\"manufacturer\")"
   ]
  },
  {
   "cell_type": "code",
   "execution_count": 36,
   "metadata": {
    "collapsed": true
   },
   "outputs": [],
   "source": [
    "#data = data.withColumn('joined_description', \n",
    "#                    sf.concat(sf.col('main_text'),sf.lit(' '), sf.col('add_text'),sf.lit(' '), sf.col('manufacturer')))"
   ]
  },
  {
   "cell_type": "code",
   "execution_count": 37,
   "metadata": {
    "collapsed": true
   },
   "outputs": [],
   "source": [
    "data=data.select('product_group','main_text','add_text','manufacturer') # ID doesnt add any value"
   ]
  },
  {
   "cell_type": "code",
   "execution_count": 38,
   "metadata": {},
   "outputs": [
    {
     "name": "stdout",
     "output_type": "stream",
     "text": [
      "root\n",
      " |-- product_group: string (nullable = true)\n",
      " |-- main_text: string (nullable = true)\n",
      " |-- add_text: string (nullable = true)\n",
      " |-- manufacturer: string (nullable = true)\n",
      "\n"
     ]
    }
   ],
   "source": [
    "data.printSchema()"
   ]
  },
  {
   "cell_type": "code",
   "execution_count": 39,
   "metadata": {},
   "outputs": [
    {
     "data": {
      "text/plain": [
       "1344"
      ]
     },
     "execution_count": 39,
     "metadata": {},
     "output_type": "execute_result"
    }
   ],
   "source": [
    "data.filter(data.manufacturer.isNull()).count()"
   ]
  },
  {
   "cell_type": "code",
   "execution_count": 40,
   "metadata": {},
   "outputs": [
    {
     "data": {
      "text/plain": [
       "2"
      ]
     },
     "execution_count": 40,
     "metadata": {},
     "output_type": "execute_result"
    }
   ],
   "source": [
    "data.filter(data.main_text.isNull()).count()"
   ]
  },
  {
   "cell_type": "code",
   "execution_count": 41,
   "metadata": {
    "collapsed": true
   },
   "outputs": [],
   "source": [
    "# remove NULL because cause a lot of issues\n",
    "data=data.fillna({'manufacturer':\"NO_Manufacturer\"})\n",
    "data=data.fillna({'main_text':\"NO_TEXT\"})"
   ]
  },
  {
   "cell_type": "code",
   "execution_count": 42,
   "metadata": {
    "collapsed": true
   },
   "outputs": [],
   "source": [
    "# regular expression tokenizer\n",
    "regexTokenizer = RegexTokenizer(inputCol=\"main_text\", outputCol=\"main_text_t\")\n",
    "stopwordsRemover = StopWordsRemover(inputCol=\"main_text_t\", outputCol=\"main_text_f\")\n",
    "hashingTF = HashingTF(inputCol=\"main_text_f\", outputCol=\"rawFeatures1\")\n",
    "idf = IDF(inputCol=\"rawFeatures1\", outputCol=\"tf_idf\")\n",
    "# regular expression tokenizer\n",
    "regexTokenizer2 = RegexTokenizer(inputCol=\"add_text\", outputCol=\"add_text_t\")\n",
    "stopwordsRemover2 = StopWordsRemover(inputCol=\"add_text_t\", outputCol=\"add_text_f\")\n",
    "hashingTF2 = HashingTF(inputCol=\"add_text_f\", outputCol=\"rawFeatures2\")\n",
    "idf2 = IDF(inputCol=\"rawFeatures2\", outputCol=\"tf_idf2\")"
   ]
  },
  {
   "cell_type": "code",
   "execution_count": 43,
   "metadata": {},
   "outputs": [],
   "source": [
    "data_prep_pipe = Pipeline(stages=[regexTokenizer,stopwordsRemover,hashingTF,idf,\\\n",
    "                                  regexTokenizer2,stopwordsRemover2,hashingTF2,idf2])"
   ]
  },
  {
   "cell_type": "code",
   "execution_count": 44,
   "metadata": {},
   "outputs": [],
   "source": [
    "data_transformer = data_prep_pipe.fit(data)"
   ]
  },
  {
   "cell_type": "code",
   "execution_count": 45,
   "metadata": {
    "collapsed": true
   },
   "outputs": [],
   "source": [
    "data = data_transformer.transform(data)"
   ]
  },
  {
   "cell_type": "code",
   "execution_count": 46,
   "metadata": {
    "collapsed": true
   },
   "outputs": [],
   "source": [
    "data=data.select(\"main_text\",\"add_text\",\"product_group\",\"rawFeatures1\",\"rawFeatures2\",\"manufacturer\")"
   ]
  },
  {
   "cell_type": "code",
   "execution_count": null,
   "metadata": {
    "collapsed": true
   },
   "outputs": [],
   "source": []
  },
  {
   "cell_type": "code",
   "execution_count": null,
   "metadata": {
    "collapsed": true
   },
   "outputs": [],
   "source": []
  },
  {
   "cell_type": "code",
   "execution_count": null,
   "metadata": {
    "collapsed": true
   },
   "outputs": [],
   "source": []
  },
  {
   "cell_type": "code",
   "execution_count": 47,
   "metadata": {
    "collapsed": true
   },
   "outputs": [],
   "source": [
    "product_group_Y = StringIndexer(inputCol = \"product_group\", outputCol = \"label\")"
   ]
  },
  {
   "cell_type": "code",
   "execution_count": 48,
   "metadata": {
    "collapsed": true
   },
   "outputs": [],
   "source": [
    "datat=product_group_Y.fit(data)"
   ]
  },
  {
   "cell_type": "code",
   "execution_count": 49,
   "metadata": {
    "collapsed": true
   },
   "outputs": [],
   "source": [
    "data=datat.transform(data)"
   ]
  },
  {
   "cell_type": "code",
   "execution_count": 50,
   "metadata": {
    "collapsed": true
   },
   "outputs": [],
   "source": [
    "manufacturer_Y = StringIndexer(inputCol = \"manufacturer\", outputCol = \"manufacturer_C\")"
   ]
  },
  {
   "cell_type": "code",
   "execution_count": 51,
   "metadata": {
    "collapsed": true
   },
   "outputs": [],
   "source": [
    "datat2=manufacturer_Y.fit(data)"
   ]
  },
  {
   "cell_type": "code",
   "execution_count": 52,
   "metadata": {
    "collapsed": true
   },
   "outputs": [],
   "source": [
    "data=datat2.transform(data)"
   ]
  },
  {
   "cell_type": "code",
   "execution_count": 53,
   "metadata": {},
   "outputs": [
    {
     "name": "stdout",
     "output_type": "stream",
     "text": [
      "+--------------------+--------------------+---------------+--------------------+--------------------+-------------------+-----+--------------+\n",
      "|           main_text|            add_text|  product_group|        rawFeatures1|        rawFeatures2|       manufacturer|label|manufacturer_C|\n",
      "+--------------------+--------------------+---------------+--------------------+--------------------+-------------------+-----+--------------+\n",
      "|           WAQ284E25|      WASCHMASCHINEN|WASHINGMACHINES|(262144,[4112],[1...|(262144,[120109],...|              BOSCH|  2.0|           8.0|\n",
      "|LEEF IBRIDGE MOBI...|PC__1100COMPUTING...|     USB MEMORY|(262144,[22790,45...|(262144,[86422],[...|               LEEF|  1.0|          64.0|\n",
      "|SANDISK 32GB ULTR...|               W1370|     USB MEMORY|(262144,[45908,12...|(262144,[258930],...|    NO_Manufacturer|  1.0|           0.0|\n",
      "|HOLLANDRAD DAMEN ...|FAHRRAEDER // SPO...|       BICYCLES|(262144,[15657,47...|(262144,[58789,14...|SCHALOW & KROH GMBH|  0.0|          43.0|\n",
      "|DAHON SPEED D7 SC...|SPORTS__30000WHEE...|       BICYCLES|(262144,[33633,42...|(262144,[150267],...|              DAHON|  0.0|         204.0|\n",
      "|PNY 16GB LEGO USB...| COMPONENT __ MEMORY|     USB MEMORY|(262144,[27536,29...|(262144,[90748,20...|                PNY|  1.0|          95.0|\n",
      "|CITYBIKE COLORS 2...|FAHRRAEDER // FAH...|       BICYCLES|(262144,[52859,61...|(262144,[136839,1...|     TRENDMAXX GMBH|  0.0|          97.0|\n",
      "|126 CITY BIKE 28 ...|             1160005|       BICYCLES|(262144,[538,8227...|(262144,[114601],...|    NO_Manufacturer|  0.0|           0.0|\n",
      "|AEG WASCHMASCHINE...|                  GG|WASHINGMACHINES|(262144,[58906,11...|(262144,[218336],...|                AEG|  2.0|          11.0|\n",
      "|WD 15 H 590 EXTRA...|       WASCHTROCKNER|WASHINGMACHINES|(262144,[15554,12...|(262144,[145614],...|            SIEMENS|  2.0|           3.0|\n",
      "|615634  FLASHPEN ...|410107__HARTWAREN...|     USB MEMORY|(262144,[36685,74...|(262144,[38232,65...|    NO_Manufacturer|  1.0|           0.0|\n",
      "|WM 14 B 2 E1 A+++...|WASCHMASCHINE FRO...|WASHINGMACHINES|(262144,[18659,30...|(262144,[112828,1...|            SIEMENS|  2.0|           3.0|\n",
      "|GIANT TALON 1 LTD...|FAHRRAEDER>>MOUNT...|       BICYCLES|(262144,[90757,13...|(262144,[158672],...|              GIANT|  0.0|          65.0|\n",
      "|POLAR PULSUHR V80...|SPORTS__29000MULT...|WASHINGMACHINES|(262144,[2620,286...|(262144,[239425],...|              POLAR|  2.0|         432.0|\n",
      "|ECCO CHANGE ONE D...|              LINSEN| CONTACT LENSES|(262144,[13957,92...|(262144,[235639],...|              MPG&E|  3.0|          22.0|\n",
      "|VERBATIM STORE 'N...|          USB-STICKS|     USB MEMORY|(262144,[7367,269...|(262144,[39585],[...|           VERBATIM|  1.0|          12.0|\n",
      "|USB  8GB  MINIONS...|            COMPUTER|     USB MEMORY|(262144,[3317,493...|(262144,[132215],...|              TRIBE|  1.0|          60.0|\n",
      "|BIOFINITY TORIC 3...|              LINSEN| CONTACT LENSES|(262144,[11949,32...|(262144,[235639],...|             COOPER|  3.0|           1.0|\n",
      "|BERGAMONT ROXTAR ...|               1_1_6|       BICYCLES|(262144,[14347,15...|(262144,[34891],[...|          BERGAMONT|  0.0|          17.0|\n",
      "|PROPH.ATB-FALTR. ...|                  68|       BICYCLES|(262144,[80344,93...|(262144,[120866],...|        Fashion_EAN|  0.0|         100.0|\n",
      "+--------------------+--------------------+---------------+--------------------+--------------------+-------------------+-----+--------------+\n",
      "only showing top 20 rows\n",
      "\n"
     ]
    }
   ],
   "source": [
    "data.show()"
   ]
  },
  {
   "cell_type": "code",
   "execution_count": 54,
   "metadata": {
    "collapsed": true
   },
   "outputs": [],
   "source": [
    "from pyspark.ml.feature import VectorAssembler"
   ]
  },
  {
   "cell_type": "code",
   "execution_count": 55,
   "metadata": {
    "collapsed": true
   },
   "outputs": [],
   "source": [
    "clean_up = VectorAssembler(inputCols=['rawFeatures1','rawFeatures2','manufacturer_C'],outputCol='features')"
   ]
  },
  {
   "cell_type": "code",
   "execution_count": 56,
   "metadata": {
    "collapsed": true
   },
   "outputs": [],
   "source": [
    "dataout=clean_up.transform(data)"
   ]
  },
  {
   "cell_type": "code",
   "execution_count": 57,
   "metadata": {},
   "outputs": [
    {
     "name": "stdout",
     "output_type": "stream",
     "text": [
      "+---------+--------------+---------------+--------------------+--------------------+------------+-----+--------------+--------------------+\n",
      "|main_text|      add_text|  product_group|        rawFeatures1|        rawFeatures2|manufacturer|label|manufacturer_C|            features|\n",
      "+---------+--------------+---------------+--------------------+--------------------+------------+-----+--------------+--------------------+\n",
      "|WAQ284E25|WASCHMASCHINEN|WASHINGMACHINES|(262144,[4112],[1...|(262144,[120109],...|       BOSCH|  2.0|           8.0|(524289,[4112,382...|\n",
      "+---------+--------------+---------------+--------------------+--------------------+------------+-----+--------------+--------------------+\n",
      "only showing top 1 row\n",
      "\n"
     ]
    }
   ],
   "source": [
    "dataout.show(1)"
   ]
  },
  {
   "cell_type": "code",
   "execution_count": 58,
   "metadata": {
    "collapsed": true
   },
   "outputs": [],
   "source": [
    "datax=dataout.select(\"main_text\",\"add_text\",\"product_group\",\"features\",'label')"
   ]
  },
  {
   "cell_type": "code",
   "execution_count": 59,
   "metadata": {},
   "outputs": [
    {
     "name": "stdout",
     "output_type": "stream",
     "text": [
      "+--------------------+--------------------+---------------+--------------------+-----+\n",
      "|           main_text|            add_text|  product_group|            features|label|\n",
      "+--------------------+--------------------+---------------+--------------------+-----+\n",
      "|           WAQ284E25|      WASCHMASCHINEN|WASHINGMACHINES|(524289,[4112,382...|  2.0|\n",
      "|LEEF IBRIDGE MOBI...|PC__1100COMPUTING...|     USB MEMORY|(524289,[22790,45...|  1.0|\n",
      "|SANDISK 32GB ULTR...|               W1370|     USB MEMORY|(524289,[45908,12...|  1.0|\n",
      "|HOLLANDRAD DAMEN ...|FAHRRAEDER // SPO...|       BICYCLES|(524289,[15657,47...|  0.0|\n",
      "|DAHON SPEED D7 SC...|SPORTS__30000WHEE...|       BICYCLES|(524289,[33633,42...|  0.0|\n",
      "|PNY 16GB LEGO USB...| COMPONENT __ MEMORY|     USB MEMORY|(524289,[27536,29...|  1.0|\n",
      "|CITYBIKE COLORS 2...|FAHRRAEDER // FAH...|       BICYCLES|(524289,[52859,61...|  0.0|\n",
      "|126 CITY BIKE 28 ...|             1160005|       BICYCLES|(524289,[538,8227...|  0.0|\n",
      "|AEG WASCHMASCHINE...|                  GG|WASHINGMACHINES|(524289,[58906,11...|  2.0|\n",
      "|WD 15 H 590 EXTRA...|       WASCHTROCKNER|WASHINGMACHINES|(524289,[15554,12...|  2.0|\n",
      "|615634  FLASHPEN ...|410107__HARTWAREN...|     USB MEMORY|(524289,[36685,74...|  1.0|\n",
      "|WM 14 B 2 E1 A+++...|WASCHMASCHINE FRO...|WASHINGMACHINES|(524289,[18659,30...|  2.0|\n",
      "|GIANT TALON 1 LTD...|FAHRRAEDER>>MOUNT...|       BICYCLES|(524289,[90757,13...|  0.0|\n",
      "|POLAR PULSUHR V80...|SPORTS__29000MULT...|WASHINGMACHINES|(524289,[2620,286...|  2.0|\n",
      "|ECCO CHANGE ONE D...|              LINSEN| CONTACT LENSES|(524289,[13957,92...|  3.0|\n",
      "|VERBATIM STORE 'N...|          USB-STICKS|     USB MEMORY|(524289,[7367,269...|  1.0|\n",
      "|USB  8GB  MINIONS...|            COMPUTER|     USB MEMORY|(524289,[3317,493...|  1.0|\n",
      "|BIOFINITY TORIC 3...|              LINSEN| CONTACT LENSES|(524289,[11949,32...|  3.0|\n",
      "|BERGAMONT ROXTAR ...|               1_1_6|       BICYCLES|(524289,[14347,15...|  0.0|\n",
      "|PROPH.ATB-FALTR. ...|                  68|       BICYCLES|(524289,[80344,93...|  0.0|\n",
      "+--------------------+--------------------+---------------+--------------------+-----+\n",
      "only showing top 20 rows\n",
      "\n"
     ]
    }
   ],
   "source": [
    "datax.show()"
   ]
  },
  {
   "cell_type": "code",
   "execution_count": 67,
   "metadata": {},
   "outputs": [
    {
     "name": "stdout",
     "output_type": "stream",
     "text": [
      "Training Dataset Count: 5664\n",
      "Test Dataset Count: 2336\n"
     ]
    }
   ],
   "source": [
    "# set seed for reproducibility\n",
    "(trainingData, testData) = datax.randomSplit([0.7, 0.3], seed = 100)\n",
    "print(\"Training Dataset Count: \" + str(trainingData.count()))\n",
    "print(\"Test Dataset Count: \" + str(testData.count()))"
   ]
  },
  {
   "cell_type": "code",
   "execution_count": 68,
   "metadata": {},
   "outputs": [
    {
     "name": "stdout",
     "output_type": "stream",
     "text": [
      "+------------------------------+------------------------------+-------------+------------------------------+-----+----------+\n",
      "|                     main_text|                      add_text|product_group|                   probability|label|prediction|\n",
      "+------------------------------+------------------------------+-------------+------------------------------+-----+----------+\n",
      "|1712738000 KS CYCLING KINDE...|SPORT&FITNESS_FAHRRAEDER_KI...|     BICYCLES|[0.9768269565207385,0.00719...|  0.0|       0.0|\n",
      "|PROPHETE ALU-CITY 26  GENIE...|  SPORT & FREIZEIT__CITYRAEDER|     BICYCLES|[0.9678626535927078,0.00999...|  0.0|       0.0|\n",
      "|FUJI SPORTIF 2.1 TRIPLE LTD...|                         1_5_1|     BICYCLES|[0.9677948292952667,0.00990...|  0.0|       0.0|\n",
      "|ZUENDAPP SILVER 4.0 ALU TRE...|FAHRRAEDER // FAHRRAEDER TR...|     BICYCLES|[0.9672373288787075,0.01380...|  0.0|       0.0|\n",
      "|PROPHETE ENTDECKER 6.0 TREK...|FAHRRAEDER // FAHRRAEDER TR...|     BICYCLES|[0.9664650623860626,0.01012...|  0.0|       0.0|\n",
      "|ZUENDAPP SILVER 1.0 TREKKIN...|FAHRRAEDER // FAHRRAEDER TR...|     BICYCLES|[0.9593944824986079,0.01498...|  0.0|       0.0|\n",
      "|PROPHETE ALU-TREKKING HERRE...|SPORT & FREIZEIT__TREKKINGR...|     BICYCLES|[0.9586949674087304,0.01390...|  0.0|       0.0|\n",
      "|2. WAHL: FIXIE INC. FLOATER...|RESTPOSTEN>>FAHRRADRESTPOST...|     BICYCLES|[0.9549577846071517,0.01497...|  0.0|       0.0|\n",
      "|HOLLANDRAD 28'' TUSSAUD PIN...|SPORT & FREIZEIT__HOLLANDRA...|     BICYCLES|[0.95305790294061,0.0155528...|  0.0|       0.0|\n",
      "|2. WAHL: CUBE SL ROAD PRO G...|RESTPOSTEN>>FAHRRADRESTPOST...|     BICYCLES|[0.9493271715145818,0.01798...|  0.0|       0.0|\n",
      "+------------------------------+------------------------------+-------------+------------------------------+-----+----------+\n",
      "only showing top 10 rows\n",
      "\n"
     ]
    }
   ],
   "source": [
    "lr = LogisticRegression(maxIter=20, regParam=0.3, elasticNetParam=0)\n",
    "lrModel = lr.fit(trainingData)\n",
    "predictions = lrModel.transform(testData)\n",
    "predictions.filter(predictions['prediction'] == 0) \\\n",
    "    .select(\"main_text\",\"add_text\",\"product_group\",\"probability\",\"label\",\"prediction\") \\\n",
    "    .orderBy(\"probability\", ascending=False) \\\n",
    "    .show(n = 10, truncate = 30)"
   ]
  },
  {
   "cell_type": "code",
   "execution_count": 70,
   "metadata": {},
   "outputs": [],
   "source": [
    "lrModel.save(\"lg_mode_path\")"
   ]
  },
  {
   "cell_type": "code",
   "execution_count": 73,
   "metadata": {},
   "outputs": [],
   "source": [
    "evaluatorlg = LogisticRegressionModel.load(\"lg_mode_path\")"
   ]
  },
  {
   "cell_type": "code",
   "execution_count": 74,
   "metadata": {},
   "outputs": [
    {
     "data": {
      "text/plain": [
       "0.9970045111946206"
      ]
     },
     "execution_count": 74,
     "metadata": {},
     "output_type": "execute_result"
    }
   ],
   "source": [
    "evaluatorlg = MulticlassClassificationEvaluator(predictionCol=\"prediction\")\n",
    "evaluatorlg.evaluate(predictions)"
   ]
  },
  {
   "cell_type": "code",
   "execution_count": 82,
   "metadata": {},
   "outputs": [
    {
     "name": "stdout",
     "output_type": "stream",
     "text": [
      "+------------------------------+------------------------------+-------------+------------------------------+-----+----------+\n",
      "|                     main_text|                      add_text|product_group|                   probability|label|prediction|\n",
      "+------------------------------+------------------------------+-------------+------------------------------+-----+----------+\n",
      "|207566  NOSTALGIERAD 28 NOS...|112100__FASHION & SPORT_SPO...|     BICYCLES|[1.0,1.0612026993848946E-16...|  0.0|       0.0|\n",
      "|298426  TREKKING 26 D KCP T...|112100__FASHION & SPORT_SPO...|     BICYCLES|[1.0,9.204533569805521E-17,...|  0.0|       0.0|\n",
      "|   425012  MTB 29 MTB 29 ROT 2|112100__FASHION & SPORT_SPO...|     BICYCLES|[1.0,8.453498697369825E-17,...|  0.0|       0.0|\n",
      "|755902  MTB 275 MTB 27,5 BL...|112100__FASHION & SPORT_SPO...|     BICYCLES|[1.0,6.234894889116862E-17,...|  0.0|       0.0|\n",
      "|216064  MTB 26 EVA MTB 26 E...|112100__FASHION & SPORT_SPO...|     BICYCLES|[1.0,5.664901629937955E-17,...|  0.0|       0.0|\n",
      "|446841  MTB 275 MTB 27,5 SC...|112100__FASHION & SPORT_SPO...|     BICYCLES|[1.0,4.091649770983046E-17,...|  0.0|       0.0|\n",
      "|492234  MTB 26 MTB 26 WEISS...|112100__FASHION & SPORT_SPO...|     BICYCLES|[1.0,2.0593145250284768E-17...|  0.0|       0.0|\n",
      "|727659  MTB 275 MTB 27,5 SC...|112100__FASHION & SPORT_SPO...|     BICYCLES|[1.0,1.892116416350354E-17,...|  0.0|       0.0|\n",
      "|787865  HOLLANDRAD 28 HOLLA...|112100__FASHION & SPORT_SPO...|     BICYCLES|[1.0,1.8327534542517073E-17...|  0.0|       0.0|\n",
      "|334608  HOLLANDRAD 28 HOLLA...|112100__FASHION & SPORT_SPO...|     BICYCLES|[1.0,1.8327534542517073E-17...|  0.0|       0.0|\n",
      "+------------------------------+------------------------------+-------------+------------------------------+-----+----------+\n",
      "only showing top 10 rows\n",
      "\n"
     ]
    }
   ],
   "source": [
    "nb = NaiveBayes(smoothing=1)\n",
    "model = nb.fit(trainingData)\n",
    "predictions = model.transform(testData)\n",
    "predictions.filter(predictions['prediction'] == 0) \\\n",
    "    .select(\"main_text\",\"add_text\",\"product_group\",\"probability\",\"label\",\"prediction\") \\\n",
    "    .orderBy(\"probability\", ascending=False) \\\n",
    "    .show(n = 10, truncate = 30)"
   ]
  },
  {
   "cell_type": "code",
   "execution_count": 85,
   "metadata": {},
   "outputs": [],
   "source": [
    "model.save(\"nb_mode_path\")"
   ]
  },
  {
   "cell_type": "code",
   "execution_count": 86,
   "metadata": {},
   "outputs": [],
   "source": [
    "evaluatornb = NaiveBayesModel.load(\"nb_mode_path\")"
   ]
  },
  {
   "cell_type": "code",
   "execution_count": 87,
   "metadata": {},
   "outputs": [
    {
     "data": {
      "text/plain": [
       "0.8485700461258683"
      ]
     },
     "execution_count": 87,
     "metadata": {},
     "output_type": "execute_result"
    }
   ],
   "source": [
    "evaluatornb = MulticlassClassificationEvaluator(predictionCol=\"prediction\")\n",
    "evaluatornb.evaluate(predictions)"
   ]
  },
  {
   "cell_type": "code",
   "execution_count": null,
   "metadata": {},
   "outputs": [],
   "source": [
    "rf = RandomForestClassifier(labelCol=\"label\", \\\n",
    "                            featuresCol=\"features\", \\\n",
    "                            numTrees = 100, \\\n",
    "                            maxDepth = 3, \\\n",
    "                            maxBins = 624)\n",
    "# Train model with Training Data\n",
    "rfModel = rf.fit(trainingData)\n",
    "predictions = rfModel.transform(testData)\n",
    "predictions.filter(predictions['prediction'] == 0) \\\n",
    "    .select(\"main_text\",\"add_text\",\"product_group\",\"probability\",\"label\",\"prediction\") \\\n",
    "    .orderBy(\"probability\", ascending=False) \\\n",
    "    .show(n = 10, truncate = 30)"
   ]
  },
  {
   "cell_type": "code",
   "execution_count": null,
   "metadata": {
    "collapsed": true
   },
   "outputs": [],
   "source": []
  }
 ],
 "metadata": {
  "kernelspec": {
   "display_name": "Python 3",
   "language": "python",
   "name": "python3"
  },
  "language_info": {
   "codemirror_mode": {
    "name": "ipython",
    "version": 3
   },
   "file_extension": ".py",
   "mimetype": "text/x-python",
   "name": "python",
   "nbconvert_exporter": "python",
   "pygments_lexer": "ipython3",
   "version": "3.6.5"
  }
 },
 "nbformat": 4,
 "nbformat_minor": 2
}
